{
 "cells": [
  {
   "cell_type": "code",
   "execution_count": 17,
   "id": "2cbfeffc",
   "metadata": {},
   "outputs": [],
   "source": [
    "import math\n",
    "import graphviz\n",
    "import numpy as np\n",
    "import gtsam\n",
    "import gtsam.utils.plot as gtsam_plot\n",
    "import matplotlib.pyplot as plt"
   ]
  },
  {
   "cell_type": "code",
   "execution_count": 18,
   "id": "eae81989",
   "metadata": {},
   "outputs": [],
   "source": [
    "# Create noise models with specified standard deviations (sigmas).\n",
    "# For Pose2, the noise is on (x, y, theta).\n",
    "# Note: gtsam.Point3 is used here to represent the 3 sigmas (dx, dy, dtheta)\n",
    "\n",
    "# Prior noise on the first pose (x, y, theta) - sigmas = [0.3m, 0.3m, 0.1rad]\n",
    "PRIOR_NOISE = gtsam.noiseModel.Diagonal.Sigmas(np.array([0.3, 0.3, 0.1]))\n",
    "# Odometry noise (dx, dy, dtheta) - sigmas = [0.2m, 0.2m, 0.1rad]\n",
    "ODOMETRY_NOISE = gtsam.noiseModel.Diagonal.Sigmas(np.array([0.2, 0.2, 0.1]))"
   ]
  },
  {
   "cell_type": "code",
   "execution_count": 19,
   "id": "fc782080",
   "metadata": {},
   "outputs": [],
   "source": [
    "# 1. Create a factor graph container\n",
    "graph = gtsam.NonlinearFactorGraph()"
   ]
  },
  {
   "cell_type": "code",
   "execution_count": 20,
   "id": "b8f1c8e5",
   "metadata": {},
   "outputs": [],
   "source": [
    "# 2a. Add a prior on the first pose (key 1)\n",
    "graph.add(gtsam.PriorFactorPose2(1, gtsam.Pose2(0, 0, 0), PRIOR_NOISE))"
   ]
  },
  {
   "cell_type": "code",
   "execution_count": 21,
   "id": "dd8b8b3d",
   "metadata": {},
   "outputs": [],
   "source": [
    "# 2b. Add odometry factors (Between Factors)\n",
    "# Between poses 1 and 2:\n",
    "graph.add(gtsam.BetweenFactorPose2(1, 2, gtsam.Pose2(2, 0, 0), ODOMETRY_NOISE))\n",
    "# Between poses 2 and 3:\n",
    "graph.add(gtsam.BetweenFactorPose2(2, 3, gtsam.Pose2(2, 0, math.pi / 2), ODOMETRY_NOISE))\n",
    "# Between poses 3 and 4:\n",
    "graph.add(gtsam.BetweenFactorPose2(3, 4, gtsam.Pose2(2, 0, math.pi / 2), ODOMETRY_NOISE))\n",
    "# Between poses 4 and 5:\n",
    "graph.add(gtsam.BetweenFactorPose2(4, 5, gtsam.Pose2(2, 0, math.pi / 2), ODOMETRY_NOISE))"
   ]
  },
  {
   "cell_type": "code",
   "execution_count": 22,
   "id": "dad72290",
   "metadata": {},
   "outputs": [],
   "source": [
    "# 2c. Add the loop closure constraint\n",
    "# This factor connects pose 5 back to pose 2\n",
    "# The measurement is the expected relative pose from 5 to 2\n",
    "graph.add(gtsam.BetweenFactorPose2(5, 2, gtsam.Pose2(2, 0, math.pi / 2), ODOMETRY_NOISE))"
   ]
  },
  {
   "cell_type": "code",
   "execution_count": 23,
   "id": "e1eb2c24",
   "metadata": {},
   "outputs": [
    {
     "name": "stdout",
     "output_type": "stream",
     "text": [
      "\n",
      "Factor Graph:\n",
      "NonlinearFactorGraph: size: 6\n",
      "\n",
      "Factor 0: PriorFactor on 1\n",
      "  prior mean:  (0, 0, 0)\n",
      "  noise model: diagonal sigmas [0.3; 0.3; 0.1];\n",
      "\n",
      "Factor 1: BetweenFactor(1,2)\n",
      "  measured:  (2, 0, 0)\n",
      "  noise model: diagonal sigmas [0.2; 0.2; 0.1];\n",
      "\n",
      "Factor 2: BetweenFactor(2,3)\n",
      "  measured:  (2, 0, 1.57079633)\n",
      "  noise model: diagonal sigmas [0.2; 0.2; 0.1];\n",
      "\n",
      "Factor 3: BetweenFactor(3,4)\n",
      "  measured:  (2, 0, 1.57079633)\n",
      "  noise model: diagonal sigmas [0.2; 0.2; 0.1];\n",
      "\n",
      "Factor 4: BetweenFactor(4,5)\n",
      "  measured:  (2, 0, 1.57079633)\n",
      "  noise model: diagonal sigmas [0.2; 0.2; 0.1];\n",
      "\n",
      "Factor 5: BetweenFactor(5,2)\n",
      "  measured:  (2, 0, 1.57079633)\n",
      "  noise model: diagonal sigmas [0.2; 0.2; 0.1];\n",
      "\n",
      "\n"
     ]
    }
   ],
   "source": [
    "print(\"\\nFactor Graph:\\n{}\".format(graph))"
   ]
  },
  {
   "cell_type": "code",
   "execution_count": 24,
   "id": "3876fcf7",
   "metadata": {},
   "outputs": [
    {
     "name": "stdout",
     "output_type": "stream",
     "text": [
      "\n",
      "Initial Estimate:\n",
      "Values with 5 values:\n",
      "Value 1: (gtsam::Pose2)\n",
      "(0.5, 0, 0.2)\n",
      "\n",
      "Value 2: (gtsam::Pose2)\n",
      "(2.3, 0.1, -0.2)\n",
      "\n",
      "Value 3: (gtsam::Pose2)\n",
      "(4.1, 0.1, 1.57079633)\n",
      "\n",
      "Value 4: (gtsam::Pose2)\n",
      "(4, 2, 3.14159265)\n",
      "\n",
      "Value 5: (gtsam::Pose2)\n",
      "(2.1, 2.1, -1.57079633)\n",
      "\n",
      "\n"
     ]
    }
   ],
   "source": [
    "# 3. Create the initial estimate for the solution\n",
    "# These values are deliberately incorrect to show optimization.\n",
    "initial_estimate = gtsam.Values()\n",
    "initial_estimate.insert(1, gtsam.Pose2(0.5, 0.0, 0.2))\n",
    "initial_estimate.insert(2, gtsam.Pose2(2.3, 0.1, -0.2))\n",
    "initial_estimate.insert(3, gtsam.Pose2(4.1, 0.1, math.pi / 2))\n",
    "initial_estimate.insert(4, gtsam.Pose2(4.0, 2.0, math.pi))\n",
    "initial_estimate.insert(5, gtsam.Pose2(2.1, 2.1, -math.pi / 2))\n",
    "\n",
    "print(\"\\nInitial Estimate:\\n{}\".format(initial_estimate))"
   ]
  },
  {
   "cell_type": "code",
   "execution_count": 25,
   "id": "c1c9f080",
   "metadata": {},
   "outputs": [
    {
     "data": {
      "image/svg+xml": [
       "<?xml version=\"1.0\" encoding=\"UTF-8\" standalone=\"no\"?>\n",
       "<!DOCTYPE svg PUBLIC \"-//W3C//DTD SVG 1.1//EN\"\n",
       " \"http://www.w3.org/Graphics/SVG/1.1/DTD/svg11.dtd\">\n",
       "<!-- Generated by graphviz version 2.42.4 (0)\n",
       " -->\n",
       "<!-- Pages: 1 -->\n",
       "<svg width=\"220pt\" height=\"360pt\"\n",
       " viewBox=\"0.00 0.00 220.48 360.00\" xmlns=\"http://www.w3.org/2000/svg\" xmlns:xlink=\"http://www.w3.org/1999/xlink\">\n",
       "<g id=\"graph0\" class=\"graph\" transform=\"scale(0.86 0.86) rotate(0) translate(4 413.75)\">\n",
       "<polygon fill=\"white\" stroke=\"transparent\" points=\"-4,4 -4,-413.75 251.85,-413.75 251.85,4 -4,4\"/>\n",
       "<!-- var1 -->\n",
       "<g id=\"node1\" class=\"node\">\n",
       "<title>var1</title>\n",
       "<ellipse fill=\"none\" stroke=\"black\" cx=\"52.38\" cy=\"-132.55\" rx=\"27\" ry=\"18\"/>\n",
       "<text text-anchor=\"middle\" x=\"52.38\" y=\"-128.85\" font-family=\"Times,serif\" font-size=\"14.00\">1</text>\n",
       "</g>\n",
       "<!-- factor0 -->\n",
       "<g id=\"node6\" class=\"node\">\n",
       "<title>factor0</title>\n",
       "<ellipse fill=\"black\" stroke=\"black\" cx=\"26.65\" cy=\"-1.8\" rx=\"1.8\" ry=\"1.8\"/>\n",
       "</g>\n",
       "<!-- var1&#45;&#45;factor0 -->\n",
       "<g id=\"edge1\" class=\"edge\">\n",
       "<title>var1&#45;&#45;factor0</title>\n",
       "<path fill=\"none\" stroke=\"black\" d=\"M48.85,-114.64C42.47,-82.19 29.42,-15.88 27.03,-3.73\"/>\n",
       "</g>\n",
       "<!-- factor1 -->\n",
       "<g id=\"node7\" class=\"node\">\n",
       "<title>factor1</title>\n",
       "<ellipse fill=\"black\" stroke=\"black\" cx=\"4.08\" cy=\"-114.87\" rx=\"1.8\" ry=\"1.8\"/>\n",
       "</g>\n",
       "<!-- var1&#45;&#45;factor1 -->\n",
       "<g id=\"edge2\" class=\"edge\">\n",
       "<title>var1&#45;&#45;factor1</title>\n",
       "<path fill=\"none\" stroke=\"black\" d=\"M28.51,-123.81C19.38,-120.47 10.2,-117.11 6.18,-115.64\"/>\n",
       "</g>\n",
       "<!-- var2 -->\n",
       "<g id=\"node2\" class=\"node\">\n",
       "<title>var2</title>\n",
       "<ellipse fill=\"none\" stroke=\"black\" cx=\"59.58\" cy=\"-262.15\" rx=\"27\" ry=\"18\"/>\n",
       "<text text-anchor=\"middle\" x=\"59.58\" y=\"-258.45\" font-family=\"Times,serif\" font-size=\"14.00\">2</text>\n",
       "</g>\n",
       "<!-- var2&#45;&#45;factor1 -->\n",
       "<g id=\"edge3\" class=\"edge\">\n",
       "<title>var2&#45;&#45;factor1</title>\n",
       "<path fill=\"none\" stroke=\"black\" d=\"M52.99,-244.68C39.56,-209.02 9.81,-130.09 4.8,-116.79\"/>\n",
       "</g>\n",
       "<!-- factor2 -->\n",
       "<g id=\"node8\" class=\"node\">\n",
       "<title>factor2</title>\n",
       "<ellipse fill=\"black\" stroke=\"black\" cx=\"1.8\" cy=\"-252.36\" rx=\"1.8\" ry=\"1.8\"/>\n",
       "</g>\n",
       "<!-- var2&#45;&#45;factor2 -->\n",
       "<g id=\"edge4\" class=\"edge\">\n",
       "<title>var2&#45;&#45;factor2</title>\n",
       "<path fill=\"none\" stroke=\"black\" d=\"M33.39,-257.71C21.21,-255.65 8.38,-253.47 3.67,-252.68\"/>\n",
       "</g>\n",
       "<!-- factor5 -->\n",
       "<g id=\"node11\" class=\"node\">\n",
       "<title>factor5</title>\n",
       "<ellipse fill=\"black\" stroke=\"black\" cx=\"132.69\" cy=\"-169.69\" rx=\"1.8\" ry=\"1.8\"/>\n",
       "</g>\n",
       "<!-- var2&#45;&#45;factor5 -->\n",
       "<g id=\"edge11\" class=\"edge\">\n",
       "<title>var2&#45;&#45;factor5</title>\n",
       "<path fill=\"none\" stroke=\"black\" d=\"M72.31,-246.04C90.97,-222.45 124.28,-180.31 131.35,-171.38\"/>\n",
       "</g>\n",
       "<!-- var3 -->\n",
       "<g id=\"node3\" class=\"node\">\n",
       "<title>var3</title>\n",
       "<ellipse fill=\"none\" stroke=\"black\" cx=\"59.58\" cy=\"-391.75\" rx=\"27\" ry=\"18\"/>\n",
       "<text text-anchor=\"middle\" x=\"59.58\" y=\"-388.05\" font-family=\"Times,serif\" font-size=\"14.00\">3</text>\n",
       "</g>\n",
       "<!-- var3&#45;&#45;factor2 -->\n",
       "<g id=\"edge5\" class=\"edge\">\n",
       "<title>var3&#45;&#45;factor2</title>\n",
       "<path fill=\"none\" stroke=\"black\" d=\"M52.38,-374.38C38.22,-340.22 7.69,-266.56 2.54,-254.15\"/>\n",
       "</g>\n",
       "<!-- factor3 -->\n",
       "<g id=\"node9\" class=\"node\">\n",
       "<title>factor3</title>\n",
       "<ellipse fill=\"black\" stroke=\"black\" cx=\"122.11\" cy=\"-326.96\" rx=\"1.8\" ry=\"1.8\"/>\n",
       "</g>\n",
       "<!-- var3&#45;&#45;factor3 -->\n",
       "<g id=\"edge6\" class=\"edge\">\n",
       "<title>var3&#45;&#45;factor3</title>\n",
       "<path fill=\"none\" stroke=\"black\" d=\"M74.4,-376.4C90.58,-359.63 114.98,-334.36 120.82,-328.3\"/>\n",
       "</g>\n",
       "<!-- var4 -->\n",
       "<g id=\"node4\" class=\"node\">\n",
       "<title>var4</title>\n",
       "<ellipse fill=\"none\" stroke=\"black\" cx=\"196.38\" cy=\"-384.55\" rx=\"27\" ry=\"18\"/>\n",
       "<text text-anchor=\"middle\" x=\"196.38\" y=\"-380.85\" font-family=\"Times,serif\" font-size=\"14.00\">4</text>\n",
       "</g>\n",
       "<!-- var4&#45;&#45;factor3 -->\n",
       "<g id=\"edge7\" class=\"edge\">\n",
       "<title>var4&#45;&#45;factor3</title>\n",
       "<path fill=\"none\" stroke=\"black\" d=\"M178.4,-370.61C159.17,-355.7 130.5,-333.47 123.63,-328.14\"/>\n",
       "</g>\n",
       "<!-- factor4 -->\n",
       "<g id=\"node10\" class=\"node\">\n",
       "<title>factor4</title>\n",
       "<ellipse fill=\"black\" stroke=\"black\" cx=\"246.05\" cy=\"-279.84\" rx=\"1.8\" ry=\"1.8\"/>\n",
       "</g>\n",
       "<!-- var4&#45;&#45;factor4 -->\n",
       "<g id=\"edge8\" class=\"edge\">\n",
       "<title>var4&#45;&#45;factor4</title>\n",
       "<path fill=\"none\" stroke=\"black\" d=\"M204.58,-367.26C217.26,-340.54 240.63,-291.27 245.25,-281.53\"/>\n",
       "</g>\n",
       "<!-- var5 -->\n",
       "<g id=\"node5\" class=\"node\">\n",
       "<title>var5</title>\n",
       "<ellipse fill=\"none\" stroke=\"black\" cx=\"203.58\" cy=\"-247.75\" rx=\"27\" ry=\"18\"/>\n",
       "<text text-anchor=\"middle\" x=\"203.58\" y=\"-244.05\" font-family=\"Times,serif\" font-size=\"14.00\">5</text>\n",
       "</g>\n",
       "<!-- var5&#45;&#45;factor4 -->\n",
       "<g id=\"edge9\" class=\"edge\">\n",
       "<title>var5&#45;&#45;factor4</title>\n",
       "<path fill=\"none\" stroke=\"black\" d=\"M221.84,-261.54C230.83,-268.34 240.55,-275.68 244.37,-278.57\"/>\n",
       "</g>\n",
       "<!-- var5&#45;&#45;factor5 -->\n",
       "<g id=\"edge10\" class=\"edge\">\n",
       "<title>var5&#45;&#45;factor5</title>\n",
       "<path fill=\"none\" stroke=\"black\" d=\"M189.57,-232.33C171.17,-212.07 140.42,-178.21 133.92,-171.04\"/>\n",
       "</g>\n",
       "</g>\n",
       "</svg>\n"
      ],
      "text/plain": [
       "<graphviz.sources.Source at 0x7f1321e91810>"
      ]
     },
     "metadata": {},
     "output_type": "display_data"
    }
   ],
   "source": [
    "display(graphviz.Source(graph.dot(initial_estimate), engine='neato'))\n"
   ]
  },
  {
   "cell_type": "code",
   "execution_count": 32,
   "id": "0fb29c52",
   "metadata": {},
   "outputs": [
    {
     "name": "stdout",
     "output_type": "stream",
     "text": [
      "Unoptimized poses written to data/loop/unoptimized.txt\n"
     ]
    }
   ],
   "source": [
    "# Write the initial estimate poses to data/loop/unoptimized.txt for simulation replay\n",
    "import os\n",
    "os.makedirs('data', exist_ok=True)\n",
    "with open('data/loop/unoptimized.txt', 'w') as f:\n",
    "    for i in range(1, 6):\n",
    "        pose = initial_estimate.atPose2(i)\n",
    "        f.write(f\"{pose.x()} {pose.y()} {pose.theta()}\\n\")\n",
    "print(\"Unoptimized poses written to data/loop/unoptimized.txt\")"
   ]
  },
  {
   "cell_type": "markdown",
   "id": "6b4c1e11",
   "metadata": {},
   "source": [
    "## OPTIMIZE"
   ]
  },
  {
   "cell_type": "code",
   "execution_count": 27,
   "id": "6341f18e",
   "metadata": {},
   "outputs": [
    {
     "name": "stdout",
     "output_type": "stream",
     "text": [
      "\n",
      "Final Result:\n",
      "Values with 5 values:\n",
      "Value 1: (gtsam::Pose2)\n",
      "(-1.27455483e-20, 8.10527674e-20, 3.07189987e-20)\n",
      "\n",
      "Value 2: (gtsam::Pose2)\n",
      "(2, 1.78514217e-19, 4.34262714e-20)\n",
      "\n",
      "Value 3: (gtsam::Pose2)\n",
      "(4, -3.42173202e-11, 1.57079633)\n",
      "\n",
      "Value 4: (gtsam::Pose2)\n",
      "(4, 2, 3.14159265)\n",
      "\n",
      "Value 5: (gtsam::Pose2)\n",
      "(2, 2, -1.57079633)\n",
      "\n",
      "\n"
     ]
    }
   ],
   "source": [
    "parameters = gtsam.GaussNewtonParams()\n",
    "\n",
    "parameters.setRelativeErrorTol(1e-5)\n",
    "parameters.setMaxIterations(100)\n",
    "\n",
    "optimezer = gtsam.GaussNewtonOptimizer(graph, initial_estimate, parameters)\n",
    "result = optimezer.optimize()\n",
    "print(\"\\nFinal Result:\\n{}\".format(result))"
   ]
  },
  {
   "cell_type": "code",
   "execution_count": 28,
   "id": "a634516c",
   "metadata": {},
   "outputs": [
    {
     "name": "stdout",
     "output_type": "stream",
     "text": [
      "\n",
      "Final Result Covariances:\n",
      "\n",
      "x1 covariance:\n",
      "[[ 9.00000000e-02  1.46353224e-19  7.44508834e-20]\n",
      " [ 1.46353224e-19  9.00000000e-02 -6.39488462e-18]\n",
      " [ 7.44508834e-20 -6.39488462e-18  1.00000000e-02]]\n",
      "x2 covariance:\n",
      "[[1.30000000e-01 5.20222409e-19 1.67996663e-19]\n",
      " [5.20222409e-19 1.70000000e-01 2.00000000e-02]\n",
      " [1.67996663e-19 2.00000000e-02 2.00000000e-02]]\n",
      "x3 covariance:\n",
      "[[ 3.62000000e-01 -3.29290718e-12  6.20000000e-02]\n",
      " [-3.29290502e-12  1.62000000e-01 -2.00000000e-03]\n",
      " [ 6.20000000e-02 -2.00000000e-03  2.65000000e-02]]\n",
      "x4 covariance:\n",
      "[[ 0.268 -0.128  0.048]\n",
      " [-0.128  0.378 -0.068]\n",
      " [ 0.048 -0.068  0.028]]\n",
      "x5 covariance:\n",
      "[[ 0.202   0.036  -0.018 ]\n",
      " [ 0.036   0.26   -0.051 ]\n",
      " [-0.018  -0.051   0.0265]]\n"
     ]
    }
   ],
   "source": [
    "marginals = gtsam.Marginals(graph, result)\n",
    "print(\"\\nFinal Result Covariances:\\n\")\n",
    "for i in range(1, 6):\n",
    "    print(\"x{} covariance:\\n{}\".format(i, marginals.marginalCovariance(i)))"
   ]
  },
  {
   "cell_type": "code",
   "execution_count": 29,
   "id": "3e7a1c0d",
   "metadata": {},
   "outputs": [
    {
     "data": {
      "image/png": "[encoded data removed]",
      "text/plain": [
       "<Figure size 800x800 with 1 Axes>"
      ]
     },
     "metadata": {},
     "output_type": "display_data"
    }
   ],
   "source": [
    "# Plot the results\n",
    "fig = plt.figure(0, figsize=(8, 8))\n",
    "\n",
    "for i in range(1, 6):\n",
    "    # Plot pose with covariance ellipse\n",
    "    gtsam_plot.plot_pose2(fig.number, result.atPose2(i), axis_length=0.4,\n",
    "                           covariance=marginals.marginalCovariance(i))\n",
    "\n",
    "# Adjust plot settings\n",
    "plt.title(\"Optimized Poses with Covariance Ellipses\")\n",
    "plt.xlabel(\"X axis\")\n",
    "plt.ylabel(\"Y axis\")\n",
    "plt.axis('equal') # Ensure equal scaling on x and y axes\n",
    "plt.show()      # Display the plot"
   ]
  },
  {
   "cell_type": "code",
   "execution_count": 31,
   "id": "82eaa4e2",
   "metadata": {},
   "outputs": [
    {
     "name": "stdout",
     "output_type": "stream",
     "text": [
      "Optimized poses written to data/loop/optimized.txt\n"
     ]
    }
   ],
   "source": [
    "# Write the optimized poses to data/loop/optimized.txt for simulation replay\n",
    "import os\n",
    "os.makedirs('data', exist_ok=True)\n",
    "with open('data/loop/optimized.txt', 'w') as f:\n",
    "    for i in range(1, 6):\n",
    "        pose = result.atPose2(i)\n",
    "        f.write(f\"{pose.x()} {pose.y()} {pose.theta()}\\n\")\n",
    "print(\"Optimized poses written to data/loop/optimized.txt\")"
   ]
  },
  {
   "cell_type": "code",
   "execution_count": null,
   "id": "368a3a12",
   "metadata": {},
   "outputs": [],
   "source": []
  }
 ],
 "metadata": {
  "kernelspec": {
   "display_name": ".venv",
   "language": "python",
   "name": "python3"
  },
  "language_info": {
   "codemirror_mode": {
    "name": "ipython",
    "version": 3
   },
   "file_extension": ".py",
   "mimetype": "text/x-python",
   "name": "python",
   "nbconvert_exporter": "python",
   "pygments_lexer": "ipython3",
   "version": "3.13.3"
  }
 },
 "nbformat": 4,
 "nbformat_minor": 5
}
