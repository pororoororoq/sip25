{
 "cells": [
  {
   "cell_type": "code",
   "execution_count": 1,
   "id": "79e7aebd",
   "metadata": {},
   "outputs": [],
   "source": [
    "import matplotlib.pyplot as plt\n",
    "import numpy as np\n",
    "import graphviz\n",
    "\n",
    "import gtsam\n",
    "import gtsam.utils.plot as gp\n",
    "\n",
    "# We can use shorthand symbols for variable keys\n",
    "# X(i) represents the i-th pose variable\n",
    "# L(j) represents the j-th landmark variable\n",
    "from gtsam.symbol_shorthand import L, X"
   ]
  },
  {
   "cell_type": "code",
   "execution_count": 2,
   "id": "6957e1ca",
   "metadata": {},
   "outputs": [],
   "source": [
    "# Create noise models with specified standard deviations (sigmas).\n",
    "# gtsam.noiseModel.Diagonal.Sigmas takes a numpy array of standard deviations.\n",
    "\n",
    "# Prior noise on the first pose (x, y, theta) - sigmas = [0.3m, 0.3m, 0.1rad]\n",
    "PRIOR_NOISE = gtsam.noiseModel.Diagonal.Sigmas(np.array([0.3, 0.3, 0.1]))\n",
    "# Odometry noise (dx, dy, dtheta) - sigmas = [0.2m, 0.2m, 0.1rad]\n",
    "ODOMETRY_NOISE = gtsam.noiseModel.Diagonal.Sigmas(np.array([0.2, 0.2, 0.1]))\n",
    "# Measurement noise (bearing, range) - sigmas = [0.1rad, 0.2m]\n",
    "MEASUREMENT_NOISE = gtsam.noiseModel.Diagonal.Sigmas(np.array([0.1, 0.2]))"
   ]
  },
  {
   "cell_type": "code",
   "execution_count": 3,
   "id": "64cf89c8",
   "metadata": {},
   "outputs": [],
   "source": [
    "# Create an empty nonlinear factor graph\n",
    "graph = gtsam.NonlinearFactorGraph()"
   ]
  },
  {
   "cell_type": "code",
   "execution_count": 4,
   "id": "e18cc8b1",
   "metadata": {},
   "outputs": [],
   "source": [
    "# Add a prior on pose X(1) at the origin.\n",
    "# A prior factor consists of a mean (gtsam.Pose2) and a noise model.\n",
    "graph.add(gtsam.PriorFactorPose2(X(1), gtsam.Pose2(0.0, 0.0, 0.0), PRIOR_NOISE))"
   ]
  },
  {
   "cell_type": "code",
   "execution_count": 5,
   "id": "a9842710",
   "metadata": {},
   "outputs": [],
   "source": [
    "# Add odometry factors between X(1),X(2) and X(2),X(3), respectively.\n",
    "# The measurement is the relative motion: Pose2(dx, dy, dtheta).\n",
    "\n",
    "# Between X(1) and X(2): Move forward 2m\n",
    "graph.add(gtsam.BetweenFactorPose2(X(1), X(2), gtsam.Pose2(2.0, 0.0, 0.0), ODOMETRY_NOISE))\n",
    "# Between X(2) and X(3): Move forward 2m\n",
    "graph.add(gtsam.BetweenFactorPose2(X(2), X(3), gtsam.Pose2(2.0, 0.0, 0.0), ODOMETRY_NOISE))"
   ]
  },
  {
   "cell_type": "code",
   "execution_count": 6,
   "id": "df7524f5",
   "metadata": {},
   "outputs": [],
   "source": [
    "\n",
    "# From X(1) to L(1)\n",
    "graph.add(gtsam.BearingRangeFactor2D(X(1), L(1), gtsam.Rot2.fromDegrees(45), np.sqrt(4.0+4.0), MEASUREMENT_NOISE))\n",
    "# From X(2) to L(1)\n",
    "graph.add(gtsam.BearingRangeFactor2D(X(2), L(1), gtsam.Rot2.fromDegrees(90), 2.0, MEASUREMENT_NOISE))\n",
    "# From X(3) to L(2)\n",
    "graph.add(gtsam.BearingRangeFactor2D(X(3), L(2), gtsam.Rot2.fromDegrees(90), 2.0, MEASUREMENT_NOISE))"
   ]
  },
  {
   "cell_type": "code",
   "execution_count": 9,
   "id": "ff9c6ed6",
   "metadata": {},
   "outputs": [
    {
     "name": "stdout",
     "output_type": "stream",
     "text": [
      "Initial Estimate:\n",
      "Values with 5 values:\n",
      "Value l1: (Eigen::Matrix<double, -1, 1, 0, -1, 1>)\n",
      "[\n",
      "\t1.8;\n",
      "\t2.1\n",
      "]\n",
      "\n",
      "Value l2: (Eigen::Matrix<double, -1, 1, 0, -1, 1>)\n",
      "[\n",
      "\t4.1;\n",
      "\t1.8\n",
      "]\n",
      "\n",
      "Value x1: (gtsam::Pose2)\n",
      "(-0.25, 0.2, 0.15)\n",
      "\n",
      "Value x2: (gtsam::Pose2)\n",
      "(2.3, 0.1, -0.2)\n",
      "\n",
      "Value x3: (gtsam::Pose2)\n",
      "(4.1, 0.1, 0.1)\n",
      "\n",
      "\n"
     ]
    }
   ],
   "source": [
    "# Create (deliberately inaccurate) initial estimate.\n",
    "# gtsam.Values is a container mapping variable keys to their estimated values.\n",
    "initial_estimate = gtsam.Values()\n",
    "\n",
    "# Insert initial guesses for poses (Pose2: x, y, theta)\n",
    "initial_estimate.insert(X(1), gtsam.Pose2(-0.25, 0.20, 0.15))\n",
    "initial_estimate.insert(X(2), gtsam.Pose2(2.30, 0.10, -0.20))\n",
    "initial_estimate.insert(X(3), gtsam.Pose2(4.10, 0.10, 0.10))\n",
    "\n",
    "# Insert initial guesses for landmarks (Point2: x, y)\n",
    "initial_estimate.insert(L(1), gtsam.Point2(1.80, 2.10))\n",
    "initial_estimate.insert(L(2), gtsam.Point2(4.10, 1.80))\n",
    "\n",
    "# Print the initial estimate\n",
    "print(\"Initial Estimate:\\n{}\".format(initial_estimate))"
   ]
  },
  {
   "cell_type": "code",
   "execution_count": 18,
   "id": "9385c109",
   "metadata": {},
   "outputs": [
    {
     "name": "stdout",
     "output_type": "stream",
     "text": [
      "Unoptimized values written to data/planar_unoptimized.txt\n"
     ]
    }
   ],
   "source": [
    "# Write initial (unoptimized) values to planar_unoptimized.txt\n",
    "with open('data/planar_unoptimized.txt', 'w') as f:\n",
    "    for i in range(1, 4):\n",
    "        pose = initial_estimate.atPose2(X(i))\n",
    "        f.write(f\"{pose.x()} {pose.y()} {pose.theta()}\\n\")\n",
    "print(\"Unoptimized values written to data/planar_unoptimized.txt\")"
   ]
  },
  {
   "cell_type": "code",
   "execution_count": 12,
   "id": "d4f93c13",
   "metadata": {},
   "outputs": [
    {
     "name": "stdout",
     "output_type": "stream",
     "text": [
      "\n",
      "Final Result:\n",
      "Values with 5 values:\n",
      "Value l1: (Eigen::Matrix<double, -1, 1, 0, -1, 1>)\n",
      "[\n",
      "\t2;\n",
      "\t2\n",
      "]\n",
      "\n",
      "Value l2: (Eigen::Matrix<double, -1, 1, 0, -1, 1>)\n",
      "[\n",
      "\t4;\n",
      "\t2\n",
      "]\n",
      "\n",
      "Value x1: (gtsam::Pose2)\n",
      "(-7.45949e-16, -5.78962e-16, -2.45047e-16)\n",
      "\n",
      "Value x2: (gtsam::Pose2)\n",
      "(2, -1.06329e-14, -1.33676e-15)\n",
      "\n",
      "Value x3: (gtsam::Pose2)\n",
      "(4, -3.71e-14, -1.30673e-15)\n",
      "\n",
      "\n"
     ]
    }
   ],
   "source": [
    "# Optimize using Levenberg-Marquardt optimization.\n",
    "# The optimizer accepts optional parameters, but we'll use the defaults here.\n",
    "params = gtsam.LevenbergMarquardtParams()\n",
    "optimizer = gtsam.LevenbergMarquardtOptimizer(graph, initial_estimate, params)\n",
    "\n",
    "# Perform the optimization\n",
    "result = optimizer.optimize()\n",
    "\n",
    "# Print the final optimized result\n",
    "# This gtsam.Values object contains the most likely estimates for all variables.\n",
    "print(\"\\nFinal Result:\\n{}\".format(result))"
   ]
  },
  {
   "cell_type": "code",
   "execution_count": null,
   "id": "26728cff",
   "metadata": {},
   "outputs": [
    {
     "name": "stdout",
     "output_type": "stream",
     "text": [
      "Optimized values written to data/planar_optimized.txt\n"
     ]
    }
   ],
   "source": [
    "# Write optimized values to planar_optimized.txt\n",
    "with open('data/planar_optimized.txt', 'w') as f:\n",
    "    for i in range(1, 4):\n",
    "        pose = result.atPose2(X(i))\n",
    "        f.write(f\"{pose.x()} {pose.y()} {pose.theta()}\\n\")\n",
    "print(\"Optimized values written to data/planar_optimized.txt\")"
   ]
  },
  {
   "cell_type": "code",
   "execution_count": null,
   "id": "a2625cb6",
   "metadata": {},
   "outputs": [],
   "source": []
  }
 ],
 "metadata": {
  "kernelspec": {
   "display_name": ".venv",
   "language": "python",
   "name": "python3"
  },
  "language_info": {
   "codemirror_mode": {
    "name": "ipython",
    "version": 3
   },
   "file_extension": ".py",
   "mimetype": "text/x-python",
   "name": "python",
   "nbconvert_exporter": "python",
   "pygments_lexer": "ipython3",
   "version": "3.13.3"
  }
 },
 "nbformat": 4,
 "nbformat_minor": 5
}
